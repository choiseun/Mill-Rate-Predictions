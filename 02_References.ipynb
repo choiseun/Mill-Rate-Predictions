{
 "cells": [
  {
   "cell_type": "markdown",
   "id": "d3a32a06",
   "metadata": {},
   "source": [
    "### References (Utilities)\n",
    "\n",
    "\"Boxplots\". Matplotlib.org, https://matplotlib.org/stable/gallery/statistics/boxplot_demo.html. Accessed 11 Oct. 2023.\n",
    "\n",
    "\"How do I find numeric columns in Pandas?\". Stackoverflow, https://stackoverflow.com/questions/25039626/how-do-i-find-numeric-columns-in-pandas. Accessed 11 Oct. 2023.\n",
    "\n",
    "\"How to Split One Column into Multiple Columns in Pandas DataFrame\". Saturn Cloud, https://saturncloud.io/blog/how-to-split-one-column-into-multiple-columns-in-pandas-dataframe/. Accessed 11 Oct. 2023.\n",
    "\n",
    "\"matplotlib.pyplot.boxplot\". Matplotlib.org, https://matplotlib.org/3.1.1/api/_as_gen/matplotlib.pyplot.boxplot.html. Accessed 11 Oct. 2023."
   ]
  },
  {
   "cell_type": "markdown",
   "id": "fecad7d1",
   "metadata": {},
   "source": [
    "12/3\n",
    "\n",
    "- NN_wine.py\n",
    "- https://www.w3schools.com/python/python_datetime.asp\n",
    "- https://pandas.pydata.org/docs/reference/api/pandas.DataFrame.bfill.html\n",
    "- https://pandas.pydata.org/docs/reference/api/pandas.Index.rename.html\n",
    "- https://pandas.pydata.org/docs/reference/api/pandas.DataFrame.dropna.html\n",
    "- https://scikit-learn.org/stable/modules/generated/sklearn.preprocessing.StandardScaler.html\n",
    "- https://scikit-learn.org/stable/modules/generated/sklearn.neural_network.MLPRegressor.html\n",
    "- https://scikit-learn.org/stable/modules/generated/sklearn.feature_selection.RFE.html\n",
    "- https://scikit-learn.org/stable/modules/generated/sklearn.linear_model.LinearRegression.html\n",
    "- https://scikit-learn.org/stable/modules/generated/sklearn.model_selection.cross_val_score.html\n",
    "- https://scikit-learn.org/stable/modules/generated/sklearn.preprocessing.StandardScaler.html\n",
    "- https://scikit-learn.org/stable/modules/generated/sklearn.ensemble.RandomForestRegressor.html\n",
    "- https://scikit-learn.org/stable/modules/generated/sklearn.model_selection.GridSearchCV.html\n",
    "- https://stackoverflow.com/questions/55786860/how-is-the-hidden-layer-size-determined-for-mlpregressor-in-scikitlearn\n",
    "- https://scikit-learn.org/stable/modules/generated/sklearn.neighbors.KNeighborsRegressor.html"
   ]
  },
  {
   "cell_type": "code",
   "execution_count": null,
   "id": "807bae7a",
   "metadata": {},
   "outputs": [],
   "source": []
  }
 ],
 "metadata": {
  "kernelspec": {
   "display_name": "Python 3 (ipykernel)",
   "language": "python",
   "name": "python3"
  },
  "language_info": {
   "codemirror_mode": {
    "name": "ipython",
    "version": 3
   },
   "file_extension": ".py",
   "mimetype": "text/x-python",
   "name": "python",
   "nbconvert_exporter": "python",
   "pygments_lexer": "ipython3",
   "version": "3.10.9"
  }
 },
 "nbformat": 4,
 "nbformat_minor": 5
}
