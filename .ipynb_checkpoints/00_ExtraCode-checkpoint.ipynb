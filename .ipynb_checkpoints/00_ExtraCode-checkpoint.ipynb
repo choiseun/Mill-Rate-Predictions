{
 "cells": [
  {
   "cell_type": "code",
   "execution_count": null,
   "id": "2ffbf288",
   "metadata": {},
   "outputs": [],
   "source": [
    "# Read the data\n",
    "mr_1 = pd.read_csv('../real_estate_data/Mill-Rates_FY1992-2013.csv', skiprows=[0])\n",
    "\n",
    "# View the data\n",
    "mr_1.head()"
   ]
  },
  {
   "cell_type": "code",
   "execution_count": null,
   "id": "6839997b",
   "metadata": {},
   "outputs": [],
   "source": []
  },
  {
   "cell_type": "code",
   "execution_count": null,
   "id": "1951d214",
   "metadata": {},
   "outputs": [],
   "source": [
    "# Create the response variable, 'great_value'\n",
    "data.loc[data['assessed_value'] < data['sale_amount'], 'great_value'] = 1\n",
    "data.loc[data['assessed_value'] >= data['sale_amount'], 'great_value'] = 0\n",
    "data['great_value'] = data['great_value'].astype(int)"
   ]
  },
  {
   "cell_type": "code",
   "execution_count": null,
   "id": "56b9e6d7",
   "metadata": {},
   "outputs": [],
   "source": []
  },
  {
   "cell_type": "code",
   "execution_count": null,
   "id": "ce6384ae",
   "metadata": {},
   "outputs": [],
   "source": []
  },
  {
   "cell_type": "code",
   "execution_count": null,
   "id": "f47f73fd",
   "metadata": {},
   "outputs": [],
   "source": [
    "### Data type conversions\n",
    "\n",
    "# Define separate 'Code' column\n",
    "mr1_code = mr_1[['Code']][0:291].astype(int)"
   ]
  },
  {
   "cell_type": "code",
   "execution_count": null,
   "id": "713e6760",
   "metadata": {},
   "outputs": [],
   "source": [
    "### Drop unneeded columns + rows\n",
    "\n",
    "# Drop columns\n",
    "mr_1.drop(columns=['Code'], inplace=True)\n",
    "\n",
    "# Drop rows\n",
    "mr_1.drop(mr_1.tail(1).index, inplace=True)"
   ]
  },
  {
   "cell_type": "code",
   "execution_count": null,
   "id": "858c8903",
   "metadata": {},
   "outputs": [],
   "source": [
    "### Handle missing values\n",
    "\n",
    "# Replace NaN values with previous year's values\n",
    "mr_1['2001'].fillna(mr_1['2000'], inplace=True)\n",
    "mr_1['2012'].fillna(mr_1['2011'], inplace=True)\n",
    "\n",
    "# Replace 'Not Avail.' with NaN\n",
    "mr_1.replace('Not Avail.', pd.NA, inplace=True)\n",
    "\n",
    "# Fill NaN values\n",
    "mr_1.bfill(axis=1, inplace=True)\n",
    "mr_1.ffill(axis=1, inplace=True)\n",
    "\n",
    "# Check missing values\n",
    "mr_1.isnull().sum().sort_values(ascending=False)"
   ]
  },
  {
   "cell_type": "code",
   "execution_count": null,
   "id": "8a0cf3e3",
   "metadata": {},
   "outputs": [],
   "source": [
    "### Add back 'Code' column\n",
    "\n",
    "# 'Code'\n",
    "mr_1['Code'] = mr1_code"
   ]
  },
  {
   "cell_type": "code",
   "execution_count": null,
   "id": "7919af1b",
   "metadata": {},
   "outputs": [],
   "source": []
  },
  {
   "cell_type": "code",
   "execution_count": null,
   "id": "daa8b257",
   "metadata": {},
   "outputs": [],
   "source": []
  }
 ],
 "metadata": {
  "kernelspec": {
   "display_name": "Python 3 (ipykernel)",
   "language": "python",
   "name": "python3"
  },
  "language_info": {
   "codemirror_mode": {
    "name": "ipython",
    "version": 3
   },
   "file_extension": ".py",
   "mimetype": "text/x-python",
   "name": "python",
   "nbconvert_exporter": "python",
   "pygments_lexer": "ipython3",
   "version": "3.10.9"
  }
 },
 "nbformat": 4,
 "nbformat_minor": 5
}
